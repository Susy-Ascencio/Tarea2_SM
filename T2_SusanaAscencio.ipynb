{
 "cells": [
  {
   "cell_type": "markdown",
   "metadata": {},
   "source": [
    "# Tarea 2: Resumenes"
   ]
  },
  {
   "cell_type": "markdown",
   "metadata": {},
   "source": [
    "## ¿Lenguaje de programación del año? Python destaca en las últimas clasificaciones"
   ]
  },
  {
   "cell_type": "markdown",
   "metadata": {},
   "source": [
    "Paython se encuentra dentro de los tres lugares de programación más populares. Fue creado en 1989 por el programador holandés Guido van Rossum."
   ]
  },
  {
   "cell_type": "markdown",
   "metadata": {},
   "source": [
    "Python ha ganado popularidad los últimos años gracias a su uso en un número creciente de campos. De igual manera es el lenguaje más usado por los **Hackers** gracias a que tiene una sintaxis fácil, disponibilidad de tutoriales en línea, numerosas bibliotecas de software que se pueden usar de modo malicioso."
   ]
  },
  {
   "cell_type": "markdown",
   "metadata": {},
   "source": [
    " El índice de Tiobe y otras clasificadoras populares han evaluado y escrito un artículo acerca de Python el cual titula de la siguiente manera: *”Python se está comiendo el mundo: Cómo el proyecto paralelo de un desarrollador se convirtió en el lenguaje de programación más caliente del planeta”*"
   ]
  },
  {
   "cell_type": "markdown",
   "metadata": {},
   "source": [
    "Otro lenguaje que obtuvo ganancias significativas fie MATLAB que pasó del puesto 18 al 11 y se pronostica que Kotlin se unirá a los 20 idiomas más populares de este año."
   ]
  },
  {
   "cell_type": "markdown",
   "metadata": {},
   "source": [
    "Los 20 idiomas principales en orden descendente para enero de 2019 fueron Java, C, Python, C++, Visual Basic .NET, JavaScript, C, PHP, SQL, Objective-C, MATLAB, R, Perl, Assembly language, Swift, Go, Delphi/Object Pascal, Ruby, PL/SQL y Visual Basic."
   ]
  },
  {
   "cell_type": "markdown",
   "metadata": {},
   "source": [
    "[Información completa](https://www.zdnet.com/article/programming-language-of-the-year-python-is-standout-in-latest-rankings/)"
   ]
  },
  {
   "cell_type": "markdown",
   "metadata": {},
   "source": []
  }
 ],
 "metadata": {
  "kernelspec": {
   "display_name": "Python 3",
   "language": "python",
   "name": "python3"
  },
  "language_info": {
   "codemirror_mode": {
    "name": "ipython",
    "version": 3
   },
   "file_extension": ".py",
   "mimetype": "text/x-python",
   "name": "python",
   "nbconvert_exporter": "python",
   "pygments_lexer": "ipython3",
   "version": "3.8.3"
  }
 },
 "nbformat": 4,
 "nbformat_minor": 4
}
