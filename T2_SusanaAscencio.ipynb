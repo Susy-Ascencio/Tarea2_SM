{
 "cells": [
  {
   "cell_type": "markdown",
   "metadata": {},
   "source": [
    "# Tarea 2: Resumenes"
   ]
  },
  {
   "cell_type": "markdown",
   "metadata": {},
   "source": [
    "## ¿Lenguaje de programación del año? Python destaca en las últimas clasificaciones"
   ]
  },
  {
   "cell_type": "markdown",
   "metadata": {},
   "source": [
    "Paython se encuentra dentro de los tres lugares de programación más populares. Fue creado en 1989 por el programador holandés Guido van Rossum."
   ]
  },
  {
   "cell_type": "markdown",
   "metadata": {},
   "source": [
    "Python ha ganado popularidad los últimos años gracias a su uso en un número creciente de campos. De igual manera es el lenguaje más usado por los **Hackers** gracias a que tiene una sintaxis fácil, disponibilidad de tutoriales en línea, numerosas bibliotecas de software que se pueden usar de modo malicioso."
   ]
  },
  {
   "cell_type": "markdown",
   "metadata": {},
   "source": [
    " El índice de Tiobe y otras clasificadoras populares han evaluado y escrito un artículo acerca de Python el cual titula de la siguiente manera: *”Python se está comiendo el mundo: Cómo el proyecto paralelo de un desarrollador se convirtió en el lenguaje de programación más caliente del planeta”*"
   ]
  },
  {
   "cell_type": "markdown",
   "metadata": {},
   "source": [
    "Otro lenguaje que obtuvo ganancias significativas fie MATLAB que pasó del puesto 18 al 11 y se pronostica que Kotlin se unirá a los 20 idiomas más populares de este año."
   ]
  },
  {
   "cell_type": "markdown",
   "metadata": {},
   "source": [
    "Los 20 idiomas principales en orden descendente para enero de 2019 fueron Java, C, Python, C++, Visual Basic .NET, JavaScript, C, PHP, SQL, Objective-C, MATLAB, R, Perl, Assembly language, Swift, Go, Delphi/Object Pascal, Ruby, PL/SQL y Visual Basic."
   ]
  },
  {
   "cell_type": "markdown",
   "metadata": {},
   "source": [
    "[Información completa](https://www.zdnet.com/article/programming-language-of-the-year-python-is-standout-in-latest-rankings/)"
   ]
  },
  {
   "cell_type": "markdown",
   "metadata": {},
   "source": [
    "## Lenguajes de programaciónPython ha llevado la programación informática a una nueva audiencia"
   ]
  },
  {
   "cell_type": "markdown",
   "metadata": {},
   "source": [
    "En Diciembre de 1989 Guido van Rossum molesto por las deficiencias de otros lenguajes de programación, quería construir el suyo. En primer lugar tenía que ser fácil de leer, cada trozo tenía que estar rodeado por un espacio en blanco con sangría. En segundo lugar debe permitir a los usuarios crear sus propios paquetes de módulos de codificación especial. En tercer lugar quería un nombre *”corto, único y ligeramente misterioso”* el final lo llamó   **Monty Python**."
   ]
  },
  {
   "cell_type": "markdown",
   "metadata": {},
   "source": [
    "Después de 30 años se convirtió en uno de los programas más populares del mundo, la tasa de consultas se ha triplicado desde 2010, mientras que las consultas de los otros programas han disminuido."
   ]
  },
  {
   "cell_type": "markdown",
   "metadata": {},
   "source": [
    "Los **Pythonistas**, como se les conoce a los aficionados, han ayudado agregando más de 145,000 paquetes a Cheese Shop, cubriendo todo, desde astronomía hasta desarrollo de juegos."
   ]
  },
  {
   "cell_type": "markdown",
   "metadata": {},
   "source": [
    "Sin embargo, Python no es perfecto. Otros lenguajes tienen más eficiencia de procesamiento y capacidades especializadas. C y C ++ son opciones de \"nivel inferior\" que le dan al usuario más control sobre lo que sucede dentro del procesador de una computadora. Java es popular para crear aplicaciones grandes y complejas. JavaScript es el idioma elegido para las aplicaciones a las que se accede a través de un navegador web."
   ]
  },
  {
   "cell_type": "markdown",
   "metadata": {},
   "source": [
    "Algunos de los paquetes más atractivos que los Pythonistas pueden encontrar en Cheese Shop aprovechan la inteligencia artificial (IA). Los usuarios pueden crear redes neuronales, que imitan las conexiones en un cerebro, para seleccionar patrones en grandes cantidades de datos. Además está Citigroup, un banco estadounidense, ha introducido un curso intensivo de Python para sus analistas en formación. Un sitio web de empleos, eFinancialCareers."
   ]
  },
  {
   "cell_type": "markdown",
   "metadata": {},
   "source": [
    "[Información completa](https://www.economist.com/science-and-technology/2018/07/19/python-has-brought-computer-programming-to-a-vast-new-audience)"
   ]
  }
 ],
 "metadata": {
  "kernelspec": {
   "display_name": "Python 3",
   "language": "python",
   "name": "python3"
  },
  "language_info": {
   "codemirror_mode": {
    "name": "ipython",
    "version": 3
   },
   "file_extension": ".py",
   "mimetype": "text/x-python",
   "name": "python",
   "nbconvert_exporter": "python",
   "pygments_lexer": "ipython3",
   "version": "3.8.3"
  }
 },
 "nbformat": 4,
 "nbformat_minor": 4
}
